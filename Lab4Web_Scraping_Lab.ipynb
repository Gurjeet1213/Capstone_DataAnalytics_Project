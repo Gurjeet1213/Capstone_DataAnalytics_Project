{
  "cells": [
    {
      "cell_type": "markdown",
      "metadata": {
        "id": "KKpRnfp8W3vj"
      },
      "source": [
        "<p style=\"text-align:center\">\n",
        "    <a href=\"https://skills.network/?utm_medium=Exinfluencer&utm_source=Exinfluencer&utm_content=000026UJ&utm_term=10006555&utm_id=NA-SkillsNetwork-Channel-SkillsNetworkCoursesIBMDA0321ENSkillsNetwork928-2022-01-01\" target=\"_blank\">\n",
        "    <img src=\"https://cf-courses-data.s3.us.cloud-object-storage.appdomain.cloud/assets/logos/SN_web_lightmode.png\" width=\"200\" alt=\"Skills Network Logo\"  />\n",
        "    </a>\n",
        "</p>\n"
      ]
    },
    {
      "cell_type": "markdown",
      "metadata": {
        "id": "BIUYL7kPW3vk"
      },
      "source": [
        "# **Hands-on Lab : Web Scraping**\n"
      ]
    },
    {
      "cell_type": "markdown",
      "metadata": {
        "id": "YutslGnWW3vl"
      },
      "source": [
        "Estimated time needed: **30 to 45** minutes\n"
      ]
    },
    {
      "cell_type": "markdown",
      "metadata": {
        "id": "rFuFpSg5W3vl"
      },
      "source": [
        "## Objectives\n"
      ]
    },
    {
      "cell_type": "markdown",
      "metadata": {
        "id": "WgeJwTp1W3vl"
      },
      "source": [
        "In this lab you will perform the following:\n"
      ]
    },
    {
      "cell_type": "markdown",
      "metadata": {
        "id": "7Yp3RhKZW3vl"
      },
      "source": [
        "* Extract information from a given web site\n",
        "* Write the scraped data into a csv file.\n"
      ]
    },
    {
      "cell_type": "markdown",
      "metadata": {
        "id": "6KvlenJmW3vl"
      },
      "source": [
        "## Extract information from the given web site\n",
        "You will extract the data from the below web site: <br>\n"
      ]
    },
    {
      "cell_type": "code",
      "execution_count": 1,
      "metadata": {
        "id": "3Hlz-tjkW3vl"
      },
      "outputs": [],
      "source": [
        "#this url contains the data you need to scrape\n",
        "url = \"https://cf-courses-data.s3.us.cloud-object-storage.appdomain.cloud/IBM-DA0321EN-SkillsNetwork/labs/datasets/Programming_Languages.html\""
      ]
    },
    {
      "cell_type": "markdown",
      "metadata": {
        "id": "vCkHUqU-W3vm"
      },
      "source": [
        "The data you need to scrape is the **name of the programming language** and **average annual salary**.<br> It is a good idea to open the url in your web broswer and study the contents of the web page before you start to scrape.\n"
      ]
    },
    {
      "cell_type": "markdown",
      "metadata": {
        "id": "pEE_iWkhW3vm"
      },
      "source": [
        "Import the required libraries\n"
      ]
    },
    {
      "cell_type": "code",
      "execution_count": 2,
      "metadata": {
        "id": "CkctCeNMW3vn"
      },
      "outputs": [],
      "source": [
        "# Your code here\n",
        "import pandas as pd\n",
        "import matplotlib as plt\n",
        "import seaborn as sns"
      ]
    },
    {
      "cell_type": "markdown",
      "metadata": {
        "id": "MvB9boxbW3vn"
      },
      "source": [
        "Download the webpage at the url\n"
      ]
    },
    {
      "cell_type": "code",
      "execution_count": 3,
      "metadata": {
        "colab": {
          "base_uri": "https://localhost:8080/",
          "height": 715
        },
        "id": "WNbKXbQuW3vn",
        "outputId": "31c1b9d8-6417-4462-877b-5b6406f40b3e"
      },
      "outputs": [
        {
          "output_type": "stream",
          "name": "stdout",
          "text": [
            "--2024-12-11 15:38:27--  https://cf-courses-data.s3.us.cloud-object-storage.appdomain.cloud/n01PQ9pSmiRX6520flujwQ/survey-data.csv\n",
            "Resolving cf-courses-data.s3.us.cloud-object-storage.appdomain.cloud (cf-courses-data.s3.us.cloud-object-storage.appdomain.cloud)... 169.45.118.108\n",
            "Connecting to cf-courses-data.s3.us.cloud-object-storage.appdomain.cloud (cf-courses-data.s3.us.cloud-object-storage.appdomain.cloud)|169.45.118.108|:443... connected.\n",
            "HTTP request sent, awaiting response... 200 OK\n",
            "Length: 159525875 (152M) [text/csv]\n",
            "Saving to: ‘survey-data.csv’\n",
            "\n",
            "survey-data.csv     100%[===================>] 152.13M  12.7MB/s    in 12s     \n",
            "\n",
            "2024-12-11 15:38:40 (12.4 MB/s) - ‘survey-data.csv’ saved [159525875/159525875]\n",
            "\n"
          ]
        },
        {
          "output_type": "execute_result",
          "data": {
            "text/plain": [
              "   ResponseId                      MainBranch                 Age  \\\n",
              "0           1  I am a developer by profession  Under 18 years old   \n",
              "1           2  I am a developer by profession     35-44 years old   \n",
              "2           3  I am a developer by profession     45-54 years old   \n",
              "3           4           I am learning to code     18-24 years old   \n",
              "4           5  I am a developer by profession     18-24 years old   \n",
              "\n",
              "            Employment RemoteWork   Check  \\\n",
              "0  Employed, full-time     Remote  Apples   \n",
              "1  Employed, full-time     Remote  Apples   \n",
              "2  Employed, full-time     Remote  Apples   \n",
              "3   Student, full-time        NaN  Apples   \n",
              "4   Student, full-time        NaN  Apples   \n",
              "\n",
              "                                    CodingActivities  \\\n",
              "0                                              Hobby   \n",
              "1  Hobby;Contribute to open-source projects;Other...   \n",
              "2  Hobby;Contribute to open-source projects;Other...   \n",
              "3                                                NaN   \n",
              "4                                                NaN   \n",
              "\n",
              "                                             EdLevel  \\\n",
              "0                          Primary/elementary school   \n",
              "1       Bachelor’s degree (B.A., B.S., B.Eng., etc.)   \n",
              "2    Master’s degree (M.A., M.S., M.Eng., MBA, etc.)   \n",
              "3  Some college/university study without earning ...   \n",
              "4  Secondary school (e.g. American high school, G...   \n",
              "\n",
              "                                           LearnCode  \\\n",
              "0                             Books / Physical media   \n",
              "1  Books / Physical media;Colleague;On the job tr...   \n",
              "2  Books / Physical media;Colleague;On the job tr...   \n",
              "3  Other online resources (e.g., videos, blogs, f...   \n",
              "4  Other online resources (e.g., videos, blogs, f...   \n",
              "\n",
              "                                     LearnCodeOnline  ... JobSatPoints_6  \\\n",
              "0                                                NaN  ...            NaN   \n",
              "1  Technical documentation;Blogs;Books;Written Tu...  ...            0.0   \n",
              "2  Technical documentation;Blogs;Books;Written Tu...  ...            NaN   \n",
              "3  Stack Overflow;How-to videos;Interactive tutorial  ...            NaN   \n",
              "4  Technical documentation;Blogs;Written Tutorial...  ...            NaN   \n",
              "\n",
              "  JobSatPoints_7 JobSatPoints_8 JobSatPoints_9 JobSatPoints_10  \\\n",
              "0            NaN            NaN            NaN             NaN   \n",
              "1            0.0            0.0            0.0             0.0   \n",
              "2            NaN            NaN            NaN             NaN   \n",
              "3            NaN            NaN            NaN             NaN   \n",
              "4            NaN            NaN            NaN             NaN   \n",
              "\n",
              "  JobSatPoints_11           SurveyLength SurveyEase ConvertedCompYearly JobSat  \n",
              "0             NaN                    NaN        NaN                 NaN    NaN  \n",
              "1             0.0                    NaN        NaN                 NaN    NaN  \n",
              "2             NaN  Appropriate in length       Easy                 NaN    NaN  \n",
              "3             NaN               Too long       Easy                 NaN    NaN  \n",
              "4             NaN              Too short       Easy                 NaN    NaN  \n",
              "\n",
              "[5 rows x 114 columns]"
            ],
            "text/html": [
              "\n",
              "  <div id=\"df-0e591f40-84ad-4cf2-b5f0-8d092cfde273\" class=\"colab-df-container\">\n",
              "    <div>\n",
              "<style scoped>\n",
              "    .dataframe tbody tr th:only-of-type {\n",
              "        vertical-align: middle;\n",
              "    }\n",
              "\n",
              "    .dataframe tbody tr th {\n",
              "        vertical-align: top;\n",
              "    }\n",
              "\n",
              "    .dataframe thead th {\n",
              "        text-align: right;\n",
              "    }\n",
              "</style>\n",
              "<table border=\"1\" class=\"dataframe\">\n",
              "  <thead>\n",
              "    <tr style=\"text-align: right;\">\n",
              "      <th></th>\n",
              "      <th>ResponseId</th>\n",
              "      <th>MainBranch</th>\n",
              "      <th>Age</th>\n",
              "      <th>Employment</th>\n",
              "      <th>RemoteWork</th>\n",
              "      <th>Check</th>\n",
              "      <th>CodingActivities</th>\n",
              "      <th>EdLevel</th>\n",
              "      <th>LearnCode</th>\n",
              "      <th>LearnCodeOnline</th>\n",
              "      <th>...</th>\n",
              "      <th>JobSatPoints_6</th>\n",
              "      <th>JobSatPoints_7</th>\n",
              "      <th>JobSatPoints_8</th>\n",
              "      <th>JobSatPoints_9</th>\n",
              "      <th>JobSatPoints_10</th>\n",
              "      <th>JobSatPoints_11</th>\n",
              "      <th>SurveyLength</th>\n",
              "      <th>SurveyEase</th>\n",
              "      <th>ConvertedCompYearly</th>\n",
              "      <th>JobSat</th>\n",
              "    </tr>\n",
              "  </thead>\n",
              "  <tbody>\n",
              "    <tr>\n",
              "      <th>0</th>\n",
              "      <td>1</td>\n",
              "      <td>I am a developer by profession</td>\n",
              "      <td>Under 18 years old</td>\n",
              "      <td>Employed, full-time</td>\n",
              "      <td>Remote</td>\n",
              "      <td>Apples</td>\n",
              "      <td>Hobby</td>\n",
              "      <td>Primary/elementary school</td>\n",
              "      <td>Books / Physical media</td>\n",
              "      <td>NaN</td>\n",
              "      <td>...</td>\n",
              "      <td>NaN</td>\n",
              "      <td>NaN</td>\n",
              "      <td>NaN</td>\n",
              "      <td>NaN</td>\n",
              "      <td>NaN</td>\n",
              "      <td>NaN</td>\n",
              "      <td>NaN</td>\n",
              "      <td>NaN</td>\n",
              "      <td>NaN</td>\n",
              "      <td>NaN</td>\n",
              "    </tr>\n",
              "    <tr>\n",
              "      <th>1</th>\n",
              "      <td>2</td>\n",
              "      <td>I am a developer by profession</td>\n",
              "      <td>35-44 years old</td>\n",
              "      <td>Employed, full-time</td>\n",
              "      <td>Remote</td>\n",
              "      <td>Apples</td>\n",
              "      <td>Hobby;Contribute to open-source projects;Other...</td>\n",
              "      <td>Bachelor’s degree (B.A., B.S., B.Eng., etc.)</td>\n",
              "      <td>Books / Physical media;Colleague;On the job tr...</td>\n",
              "      <td>Technical documentation;Blogs;Books;Written Tu...</td>\n",
              "      <td>...</td>\n",
              "      <td>0.0</td>\n",
              "      <td>0.0</td>\n",
              "      <td>0.0</td>\n",
              "      <td>0.0</td>\n",
              "      <td>0.0</td>\n",
              "      <td>0.0</td>\n",
              "      <td>NaN</td>\n",
              "      <td>NaN</td>\n",
              "      <td>NaN</td>\n",
              "      <td>NaN</td>\n",
              "    </tr>\n",
              "    <tr>\n",
              "      <th>2</th>\n",
              "      <td>3</td>\n",
              "      <td>I am a developer by profession</td>\n",
              "      <td>45-54 years old</td>\n",
              "      <td>Employed, full-time</td>\n",
              "      <td>Remote</td>\n",
              "      <td>Apples</td>\n",
              "      <td>Hobby;Contribute to open-source projects;Other...</td>\n",
              "      <td>Master’s degree (M.A., M.S., M.Eng., MBA, etc.)</td>\n",
              "      <td>Books / Physical media;Colleague;On the job tr...</td>\n",
              "      <td>Technical documentation;Blogs;Books;Written Tu...</td>\n",
              "      <td>...</td>\n",
              "      <td>NaN</td>\n",
              "      <td>NaN</td>\n",
              "      <td>NaN</td>\n",
              "      <td>NaN</td>\n",
              "      <td>NaN</td>\n",
              "      <td>NaN</td>\n",
              "      <td>Appropriate in length</td>\n",
              "      <td>Easy</td>\n",
              "      <td>NaN</td>\n",
              "      <td>NaN</td>\n",
              "    </tr>\n",
              "    <tr>\n",
              "      <th>3</th>\n",
              "      <td>4</td>\n",
              "      <td>I am learning to code</td>\n",
              "      <td>18-24 years old</td>\n",
              "      <td>Student, full-time</td>\n",
              "      <td>NaN</td>\n",
              "      <td>Apples</td>\n",
              "      <td>NaN</td>\n",
              "      <td>Some college/university study without earning ...</td>\n",
              "      <td>Other online resources (e.g., videos, blogs, f...</td>\n",
              "      <td>Stack Overflow;How-to videos;Interactive tutorial</td>\n",
              "      <td>...</td>\n",
              "      <td>NaN</td>\n",
              "      <td>NaN</td>\n",
              "      <td>NaN</td>\n",
              "      <td>NaN</td>\n",
              "      <td>NaN</td>\n",
              "      <td>NaN</td>\n",
              "      <td>Too long</td>\n",
              "      <td>Easy</td>\n",
              "      <td>NaN</td>\n",
              "      <td>NaN</td>\n",
              "    </tr>\n",
              "    <tr>\n",
              "      <th>4</th>\n",
              "      <td>5</td>\n",
              "      <td>I am a developer by profession</td>\n",
              "      <td>18-24 years old</td>\n",
              "      <td>Student, full-time</td>\n",
              "      <td>NaN</td>\n",
              "      <td>Apples</td>\n",
              "      <td>NaN</td>\n",
              "      <td>Secondary school (e.g. American high school, G...</td>\n",
              "      <td>Other online resources (e.g., videos, blogs, f...</td>\n",
              "      <td>Technical documentation;Blogs;Written Tutorial...</td>\n",
              "      <td>...</td>\n",
              "      <td>NaN</td>\n",
              "      <td>NaN</td>\n",
              "      <td>NaN</td>\n",
              "      <td>NaN</td>\n",
              "      <td>NaN</td>\n",
              "      <td>NaN</td>\n",
              "      <td>Too short</td>\n",
              "      <td>Easy</td>\n",
              "      <td>NaN</td>\n",
              "      <td>NaN</td>\n",
              "    </tr>\n",
              "  </tbody>\n",
              "</table>\n",
              "<p>5 rows × 114 columns</p>\n",
              "</div>\n",
              "    <div class=\"colab-df-buttons\">\n",
              "\n",
              "  <div class=\"colab-df-container\">\n",
              "    <button class=\"colab-df-convert\" onclick=\"convertToInteractive('df-0e591f40-84ad-4cf2-b5f0-8d092cfde273')\"\n",
              "            title=\"Convert this dataframe to an interactive table.\"\n",
              "            style=\"display:none;\">\n",
              "\n",
              "  <svg xmlns=\"http://www.w3.org/2000/svg\" height=\"24px\" viewBox=\"0 -960 960 960\">\n",
              "    <path d=\"M120-120v-720h720v720H120Zm60-500h600v-160H180v160Zm220 220h160v-160H400v160Zm0 220h160v-160H400v160ZM180-400h160v-160H180v160Zm440 0h160v-160H620v160ZM180-180h160v-160H180v160Zm440 0h160v-160H620v160Z\"/>\n",
              "  </svg>\n",
              "    </button>\n",
              "\n",
              "  <style>\n",
              "    .colab-df-container {\n",
              "      display:flex;\n",
              "      gap: 12px;\n",
              "    }\n",
              "\n",
              "    .colab-df-convert {\n",
              "      background-color: #E8F0FE;\n",
              "      border: none;\n",
              "      border-radius: 50%;\n",
              "      cursor: pointer;\n",
              "      display: none;\n",
              "      fill: #1967D2;\n",
              "      height: 32px;\n",
              "      padding: 0 0 0 0;\n",
              "      width: 32px;\n",
              "    }\n",
              "\n",
              "    .colab-df-convert:hover {\n",
              "      background-color: #E2EBFA;\n",
              "      box-shadow: 0px 1px 2px rgba(60, 64, 67, 0.3), 0px 1px 3px 1px rgba(60, 64, 67, 0.15);\n",
              "      fill: #174EA6;\n",
              "    }\n",
              "\n",
              "    .colab-df-buttons div {\n",
              "      margin-bottom: 4px;\n",
              "    }\n",
              "\n",
              "    [theme=dark] .colab-df-convert {\n",
              "      background-color: #3B4455;\n",
              "      fill: #D2E3FC;\n",
              "    }\n",
              "\n",
              "    [theme=dark] .colab-df-convert:hover {\n",
              "      background-color: #434B5C;\n",
              "      box-shadow: 0px 1px 3px 1px rgba(0, 0, 0, 0.15);\n",
              "      filter: drop-shadow(0px 1px 2px rgba(0, 0, 0, 0.3));\n",
              "      fill: #FFFFFF;\n",
              "    }\n",
              "  </style>\n",
              "\n",
              "    <script>\n",
              "      const buttonEl =\n",
              "        document.querySelector('#df-0e591f40-84ad-4cf2-b5f0-8d092cfde273 button.colab-df-convert');\n",
              "      buttonEl.style.display =\n",
              "        google.colab.kernel.accessAllowed ? 'block' : 'none';\n",
              "\n",
              "      async function convertToInteractive(key) {\n",
              "        const element = document.querySelector('#df-0e591f40-84ad-4cf2-b5f0-8d092cfde273');\n",
              "        const dataTable =\n",
              "          await google.colab.kernel.invokeFunction('convertToInteractive',\n",
              "                                                    [key], {});\n",
              "        if (!dataTable) return;\n",
              "\n",
              "        const docLinkHtml = 'Like what you see? Visit the ' +\n",
              "          '<a target=\"_blank\" href=https://colab.research.google.com/notebooks/data_table.ipynb>data table notebook</a>'\n",
              "          + ' to learn more about interactive tables.';\n",
              "        element.innerHTML = '';\n",
              "        dataTable['output_type'] = 'display_data';\n",
              "        await google.colab.output.renderOutput(dataTable, element);\n",
              "        const docLink = document.createElement('div');\n",
              "        docLink.innerHTML = docLinkHtml;\n",
              "        element.appendChild(docLink);\n",
              "      }\n",
              "    </script>\n",
              "  </div>\n",
              "\n",
              "\n",
              "<div id=\"df-8b1e0ca9-a1ad-4911-b2a7-39c1fd0050ce\">\n",
              "  <button class=\"colab-df-quickchart\" onclick=\"quickchart('df-8b1e0ca9-a1ad-4911-b2a7-39c1fd0050ce')\"\n",
              "            title=\"Suggest charts\"\n",
              "            style=\"display:none;\">\n",
              "\n",
              "<svg xmlns=\"http://www.w3.org/2000/svg\" height=\"24px\"viewBox=\"0 0 24 24\"\n",
              "     width=\"24px\">\n",
              "    <g>\n",
              "        <path d=\"M19 3H5c-1.1 0-2 .9-2 2v14c0 1.1.9 2 2 2h14c1.1 0 2-.9 2-2V5c0-1.1-.9-2-2-2zM9 17H7v-7h2v7zm4 0h-2V7h2v10zm4 0h-2v-4h2v4z\"/>\n",
              "    </g>\n",
              "</svg>\n",
              "  </button>\n",
              "\n",
              "<style>\n",
              "  .colab-df-quickchart {\n",
              "      --bg-color: #E8F0FE;\n",
              "      --fill-color: #1967D2;\n",
              "      --hover-bg-color: #E2EBFA;\n",
              "      --hover-fill-color: #174EA6;\n",
              "      --disabled-fill-color: #AAA;\n",
              "      --disabled-bg-color: #DDD;\n",
              "  }\n",
              "\n",
              "  [theme=dark] .colab-df-quickchart {\n",
              "      --bg-color: #3B4455;\n",
              "      --fill-color: #D2E3FC;\n",
              "      --hover-bg-color: #434B5C;\n",
              "      --hover-fill-color: #FFFFFF;\n",
              "      --disabled-bg-color: #3B4455;\n",
              "      --disabled-fill-color: #666;\n",
              "  }\n",
              "\n",
              "  .colab-df-quickchart {\n",
              "    background-color: var(--bg-color);\n",
              "    border: none;\n",
              "    border-radius: 50%;\n",
              "    cursor: pointer;\n",
              "    display: none;\n",
              "    fill: var(--fill-color);\n",
              "    height: 32px;\n",
              "    padding: 0;\n",
              "    width: 32px;\n",
              "  }\n",
              "\n",
              "  .colab-df-quickchart:hover {\n",
              "    background-color: var(--hover-bg-color);\n",
              "    box-shadow: 0 1px 2px rgba(60, 64, 67, 0.3), 0 1px 3px 1px rgba(60, 64, 67, 0.15);\n",
              "    fill: var(--button-hover-fill-color);\n",
              "  }\n",
              "\n",
              "  .colab-df-quickchart-complete:disabled,\n",
              "  .colab-df-quickchart-complete:disabled:hover {\n",
              "    background-color: var(--disabled-bg-color);\n",
              "    fill: var(--disabled-fill-color);\n",
              "    box-shadow: none;\n",
              "  }\n",
              "\n",
              "  .colab-df-spinner {\n",
              "    border: 2px solid var(--fill-color);\n",
              "    border-color: transparent;\n",
              "    border-bottom-color: var(--fill-color);\n",
              "    animation:\n",
              "      spin 1s steps(1) infinite;\n",
              "  }\n",
              "\n",
              "  @keyframes spin {\n",
              "    0% {\n",
              "      border-color: transparent;\n",
              "      border-bottom-color: var(--fill-color);\n",
              "      border-left-color: var(--fill-color);\n",
              "    }\n",
              "    20% {\n",
              "      border-color: transparent;\n",
              "      border-left-color: var(--fill-color);\n",
              "      border-top-color: var(--fill-color);\n",
              "    }\n",
              "    30% {\n",
              "      border-color: transparent;\n",
              "      border-left-color: var(--fill-color);\n",
              "      border-top-color: var(--fill-color);\n",
              "      border-right-color: var(--fill-color);\n",
              "    }\n",
              "    40% {\n",
              "      border-color: transparent;\n",
              "      border-right-color: var(--fill-color);\n",
              "      border-top-color: var(--fill-color);\n",
              "    }\n",
              "    60% {\n",
              "      border-color: transparent;\n",
              "      border-right-color: var(--fill-color);\n",
              "    }\n",
              "    80% {\n",
              "      border-color: transparent;\n",
              "      border-right-color: var(--fill-color);\n",
              "      border-bottom-color: var(--fill-color);\n",
              "    }\n",
              "    90% {\n",
              "      border-color: transparent;\n",
              "      border-bottom-color: var(--fill-color);\n",
              "    }\n",
              "  }\n",
              "</style>\n",
              "\n",
              "  <script>\n",
              "    async function quickchart(key) {\n",
              "      const quickchartButtonEl =\n",
              "        document.querySelector('#' + key + ' button');\n",
              "      quickchartButtonEl.disabled = true;  // To prevent multiple clicks.\n",
              "      quickchartButtonEl.classList.add('colab-df-spinner');\n",
              "      try {\n",
              "        const charts = await google.colab.kernel.invokeFunction(\n",
              "            'suggestCharts', [key], {});\n",
              "      } catch (error) {\n",
              "        console.error('Error during call to suggestCharts:', error);\n",
              "      }\n",
              "      quickchartButtonEl.classList.remove('colab-df-spinner');\n",
              "      quickchartButtonEl.classList.add('colab-df-quickchart-complete');\n",
              "    }\n",
              "    (() => {\n",
              "      let quickchartButtonEl =\n",
              "        document.querySelector('#df-8b1e0ca9-a1ad-4911-b2a7-39c1fd0050ce button');\n",
              "      quickchartButtonEl.style.display =\n",
              "        google.colab.kernel.accessAllowed ? 'block' : 'none';\n",
              "    })();\n",
              "  </script>\n",
              "</div>\n",
              "\n",
              "    </div>\n",
              "  </div>\n"
            ],
            "application/vnd.google.colaboratory.intrinsic+json": {
              "type": "dataframe",
              "variable_name": "df"
            }
          },
          "metadata": {},
          "execution_count": 3
        }
      ],
      "source": [
        "#your code goes here\n",
        "# Step 1: Download the dataset\n",
        "!wget -O survey-data.csv https://cf-courses-data.s3.us.cloud-object-storage.appdomain.cloud/n01PQ9pSmiRX6520flujwQ/survey-data.csv\n",
        "\n",
        "# Step 2: Import necessary libraries and load the dataset\n",
        "import pandas as pd\n",
        "import matplotlib.pyplot as plt\n",
        "\n",
        "# Load the data\n",
        "df = pd.read_csv(\"survey-data.csv\")\n",
        "\n",
        "# Display the first few rows to understand the structure of the data\n",
        "df.head()\n"
      ]
    },
    {
      "cell_type": "markdown",
      "metadata": {
        "id": "PRx7TWMUW3vn"
      },
      "source": [
        "Create a soup object\n"
      ]
    },
    {
      "cell_type": "code",
      "execution_count": 4,
      "metadata": {
        "id": "dJ-ZI-09W3vo"
      },
      "outputs": [],
      "source": [
        "#your code goes here\n",
        "from bs4 import BeautifulSoup"
      ]
    },
    {
      "cell_type": "code",
      "source": [
        "import requests\n",
        "# Fetch the HTML content from the URL\n",
        "data = requests.get(url).text\n",
        "soup = BeautifulSoup(data, 'html.parser')"
      ],
      "metadata": {
        "id": "virkpczGX-v1"
      },
      "execution_count": 7,
      "outputs": []
    },
    {
      "cell_type": "markdown",
      "metadata": {
        "id": "503knJfBW3vo"
      },
      "source": [
        "Scrape the `Language name` and `annual average salary`.\n"
      ]
    },
    {
      "cell_type": "code",
      "execution_count": 8,
      "metadata": {
        "id": "mnH_v6QbW3vo"
      },
      "outputs": [],
      "source": [
        "#your code goes here\n",
        "\n",
        "\n",
        "# Find all table rows\n",
        "table_rows = soup.find_all('tr')\n",
        "\n",
        "# Create empty lists to store the data\n",
        "language_names = []\n",
        "annual_salaries = []\n",
        "\n",
        "# Iterate through the table rows and extract the data\n",
        "for row in table_rows[1:]:  # Skip the header row\n",
        "    columns = row.find_all('td')\n",
        "    if len(columns) >= 2:  # Ensure there are at least 2 columns\n",
        "        language_names.append(columns[1].text)  # Language name is in the 2nd column\n",
        "        annual_salaries.append(columns[3].text)  # Annual salary is in the 4th column\n",
        "\n",
        "# Create a pandas DataFrame\n",
        "df = pd.DataFrame({'Language': language_names, 'Average Annual Salary': annual_salaries})"
      ]
    },
    {
      "cell_type": "markdown",
      "metadata": {
        "id": "HY0korKlW3vo"
      },
      "source": [
        "Save the scrapped data into a file named *popular-languages.csv*\n"
      ]
    },
    {
      "cell_type": "code",
      "execution_count": 10,
      "metadata": {
        "id": "t3KFsp5aW3vo"
      },
      "outputs": [],
      "source": [
        "# your code goes here\n",
        "df.to_csv('popular-languages.csv', index=False)"
      ]
    },
    {
      "cell_type": "markdown",
      "metadata": {
        "id": "DA-oJNNgW3vo"
      },
      "source": [
        "## Authors\n"
      ]
    },
    {
      "cell_type": "markdown",
      "metadata": {
        "id": "XRTcQ_sfW3vo"
      },
      "source": [
        "Ramesh Sannareddy\n"
      ]
    },
    {
      "cell_type": "markdown",
      "metadata": {
        "id": "p_wq93WmW3vo"
      },
      "source": [
        "### Other Contributors\n"
      ]
    },
    {
      "cell_type": "markdown",
      "metadata": {
        "id": "t66a2_NrW3vo"
      },
      "source": [
        "Rav Ahuja\n"
      ]
    },
    {
      "cell_type": "markdown",
      "metadata": {
        "id": "C1LPWAtFW3vp"
      },
      "source": [
        "## Change Log\n"
      ]
    },
    {
      "cell_type": "markdown",
      "metadata": {
        "id": "v-mzmsucW3vp"
      },
      "source": [
        "|  Date (YYYY-MM-DD) |  Version | Changed By  |  Change Description |\n",
        "|---|---|---|---|\n",
        "| 2020-10-17  | 0.1  | Ramesh Sannareddy  |  Created initial version of the lab |\n"
      ]
    },
    {
      "cell_type": "markdown",
      "metadata": {
        "id": "Kv6_9OWPW3vp"
      },
      "source": [
        " Copyright &copy; 2020 IBM Corporation. This notebook and its source code are released under the terms of the [MIT License](https://cognitiveclass.ai/mit-license/?utm_medium=Exinfluencer&utm_source=Exinfluencer&utm_content=000026UJ&utm_term=10006555&utm_id=NA-SkillsNetwork-Channel-SkillsNetworkCoursesIBMDA0321ENSkillsNetwork928-2022-01-01).\n"
      ]
    }
  ],
  "metadata": {
    "kernelspec": {
      "display_name": "Python",
      "language": "python",
      "name": "conda-env-python-py"
    },
    "language_info": {
      "name": ""
    },
    "colab": {
      "provenance": []
    }
  },
  "nbformat": 4,
  "nbformat_minor": 0
}